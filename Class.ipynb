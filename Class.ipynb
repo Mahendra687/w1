{
 "cells": [
  {
   "cell_type": "code",
   "execution_count": 1,
   "id": "fc3ba6cd",
   "metadata": {},
   "outputs": [
    {
     "name": "stdout",
     "output_type": "stream",
     "text": [
      "mahendra\n"
     ]
    }
   ],
   "source": [
    "print(\"mahendra\")"
   ]
  },
  {
   "cell_type": "code",
   "execution_count": 3,
   "id": "d689d46f",
   "metadata": {},
   "outputs": [],
   "source": [
    "class Robot: #class and objects\n",
    "    def introduce_self(self):\n",
    "        print(\"My name is:\" + self.name)\n",
    "        print(\"My color is:\" + self.color)\n",
    "        print(\"My age is:\" + self.age)"
   ]
  },
  {
   "cell_type": "code",
   "execution_count": 4,
   "id": "c97791b7",
   "metadata": {},
   "outputs": [],
   "source": [
    "r1 = Robot()\n",
    "r1.name = \"Tom\"\n",
    "r1.color = \"Red\"\n",
    "r1.age = \"30\"\n",
    "\n",
    "r2 = Robot()\n",
    "r2.name = \"Jerry\"\n",
    "r2.color = \"Blue\"\n",
    "r2.age = \"40\""
   ]
  },
  {
   "cell_type": "code",
   "execution_count": 5,
   "id": "e03891dd",
   "metadata": {},
   "outputs": [
    {
     "name": "stdout",
     "output_type": "stream",
     "text": [
      "My name is:Tom\n",
      "My color is:Red\n",
      "My age is:30\n",
      "My name is:Jerry\n",
      "My color is:Blue\n",
      "My age is:40\n"
     ]
    }
   ],
   "source": [
    "r1.introduce_self()\n",
    "r2.introduce_self()"
   ]
  },
  {
   "cell_type": "code",
   "execution_count": 6,
   "id": "185ef9c4",
   "metadata": {},
   "outputs": [
    {
     "name": "stdout",
     "output_type": "stream",
     "text": [
      "string two\n",
      "string one\n"
     ]
    }
   ],
   "source": [
    "#value fliping....../\n",
    "v1 = \"string one\"\n",
    "v2 = \"string two\"\n",
    "\n",
    "temp = v1\n",
    "v1 = v2\n",
    "v2 = temp\n",
    "\n",
    "print(v1)\n",
    "print(v2)"
   ]
  },
  {
   "cell_type": "code",
   "execution_count": 7,
   "id": "faa14759",
   "metadata": {},
   "outputs": [],
   "source": [
    "class Person:\n",
    "    def __init__(self, n, p, i):\n",
    "        self.name = n\n",
    "        self.personality = p\n",
    "        self.is_sitting = i\n",
    "    def sit_down(self):\n",
    "        self.is_sitting = True\n",
    "    def stand_up(self):\n",
    "        self.is_sitting = False\n",
    "        "
   ]
  },
  {
   "cell_type": "code",
   "execution_count": 8,
   "id": "49583138",
   "metadata": {},
   "outputs": [],
   "source": [
    "p1 = Person('Alice', 'Aggressive', False)\n",
    "p2 = Person('Becky', 'Talkative', True)"
   ]
  },
  {
   "cell_type": "code",
   "execution_count": 9,
   "id": "869898cf",
   "metadata": {},
   "outputs": [
    {
     "name": "stdout",
     "output_type": "stream",
     "text": [
      "My name is:Jerry\n",
      "My color is:Blue\n",
      "My age is:40\n"
     ]
    }
   ],
   "source": [
    "p1.robot_owned = r2\n",
    "p2.robot_owned = r1\n",
    "\n",
    "p1.robot_owned.introduce_self()"
   ]
  },
  {
   "cell_type": "code",
   "execution_count": 10,
   "id": "2592a539",
   "metadata": {},
   "outputs": [
    {
     "name": "stdout",
     "output_type": "stream",
     "text": [
      "My name is:Tom\n",
      "My color is:Red\n",
      "My age is:30\n"
     ]
    }
   ],
   "source": [
    "p2.robot_owned.introduce_self()"
   ]
  },
  {
   "cell_type": "code",
   "execution_count": 14,
   "id": "3f5a0ffc",
   "metadata": {},
   "outputs": [],
   "source": [
    "#Dictionary.../\n",
    "d = {}"
   ]
  },
  {
   "cell_type": "code",
   "execution_count": 16,
   "id": "8b644368",
   "metadata": {},
   "outputs": [
    {
     "name": "stdout",
     "output_type": "stream",
     "text": [
      "32\n",
      "35\n"
     ]
    }
   ],
   "source": [
    "#Key value_____?\n",
    "d[\"Man\"] = 32\n",
    "d['Women'] = 35\n",
    "\n",
    "print(d['Man'])\n",
    "print(d['Women'])"
   ]
  },
  {
   "cell_type": "code",
   "execution_count": 17,
   "id": "c484f8b2",
   "metadata": {},
   "outputs": [
    {
     "name": "stdout",
     "output_type": "stream",
     "text": [
      "30\n"
     ]
    }
   ],
   "source": [
    "d['Man'] = 30\n",
    "print(d['Man'])"
   ]
  },
  {
   "cell_type": "code",
   "execution_count": 19,
   "id": "d6f4672b",
   "metadata": {},
   "outputs": [
    {
     "name": "stdout",
     "output_type": "stream",
     "text": [
      "100\n"
     ]
    }
   ],
   "source": [
    "#ket are commonly string or numbers\n",
    "\n",
    "d[10] = 100\n",
    "print(d[10])"
   ]
  },
  {
   "cell_type": "code",
   "execution_count": 21,
   "id": "a8e03c52",
   "metadata": {},
   "outputs": [
    {
     "name": "stdout",
     "output_type": "stream",
     "text": [
      "key\n",
      "value\n",
      "key\n",
      "value\n",
      " \n",
      "key\n",
      "value\n",
      "key\n",
      "value\n",
      " \n",
      "key\n",
      "value\n",
      "key\n",
      "value\n",
      " \n"
     ]
    }
   ],
   "source": [
    "#how to create over key value pairs\n",
    "\n",
    "for key, value in d.items():\n",
    "    print(\"key\")\n",
    "    print(\"value\")\n",
    "    print(\"key\")\n",
    "    print(\"value\")\n",
    "    print(\" \")"
   ]
  },
  {
   "cell_type": "code",
   "execution_count": 24,
   "id": "3eaa0e24",
   "metadata": {},
   "outputs": [],
   "source": [
    "#Function_______?\n",
    "\n",
    "def molecules(): # function body__\n",
    "    print(\"its DNA:\" + \"AGCT\")\n",
    "    print(\"its RNA:\" + \"AUCG\")\n",
    "    print(\"its Amino acid:\" + \"XYZ\")"
   ]
  },
  {
   "cell_type": "code",
   "execution_count": 25,
   "id": "5aa9e7fe",
   "metadata": {},
   "outputs": [
    {
     "name": "stdout",
     "output_type": "stream",
     "text": [
      "its DNA:AGCT\n",
      "its RNA:AUCG\n",
      "its Amino acid:XYZ\n"
     ]
    }
   ],
   "source": [
    "molecules()"
   ]
  },
  {
   "cell_type": "code",
   "execution_count": 26,
   "id": "a0e0c7bb",
   "metadata": {},
   "outputs": [
    {
     "name": "stdout",
     "output_type": "stream",
     "text": [
      "12\n"
     ]
    }
   ],
   "source": [
    "# Mapping___/\n",
    "def fun(x):\n",
    "    return 2*x\n",
    "a = fun(6)\n",
    "print(a)"
   ]
  },
  {
   "cell_type": "code",
   "execution_count": 27,
   "id": "37de9cc7",
   "metadata": {},
   "outputs": [
    {
     "name": "stdout",
     "output_type": "stream",
     "text": [
      "8\n"
     ]
    }
   ],
   "source": [
    "b = fun(4)\n",
    "print(b)"
   ]
  },
  {
   "cell_type": "code",
   "execution_count": 28,
   "id": "142e0d32",
   "metadata": {},
   "outputs": [
    {
     "name": "stdout",
     "output_type": "stream",
     "text": [
      "20\n"
     ]
    }
   ],
   "source": [
    "c = fun(10)\n",
    "print(c)"
   ]
  },
  {
   "cell_type": "code",
   "execution_count": 29,
   "id": "a13125da",
   "metadata": {},
   "outputs": [
    {
     "name": "stdout",
     "output_type": "stream",
     "text": [
      "30\n"
     ]
    }
   ],
   "source": [
    "def fun1(x, y):\n",
    "    return x*y\n",
    "d = fun1(5,6)\n",
    "print(d)"
   ]
  },
  {
   "cell_type": "code",
   "execution_count": 30,
   "id": "d59d78e4",
   "metadata": {},
   "outputs": [
    {
     "name": "stdout",
     "output_type": "stream",
     "text": [
      "5\n",
      "still in this function\n",
      "15\n"
     ]
    }
   ],
   "source": [
    "def fun2(x):\n",
    "    print(x)\n",
    "    print(\"still in this function\")\n",
    "    return 3*x\n",
    "f = fun2(5)\n",
    "print(f)"
   ]
  },
  {
   "cell_type": "code",
   "execution_count": 33,
   "id": "e1905822",
   "metadata": {},
   "outputs": [],
   "source": [
    "def fun3(arg):\n",
    "    print(arg)\n",
    "    print(\"weeeeee\")"
   ]
  },
  {
   "cell_type": "code",
   "execution_count": 34,
   "id": "ecf3ce53",
   "metadata": {},
   "outputs": [
    {
     "name": "stdout",
     "output_type": "stream",
     "text": [
      "4\n",
      "weeeeee\n"
     ]
    }
   ],
   "source": [
    "fun3(4)"
   ]
  },
  {
   "cell_type": "code",
   "execution_count": 68,
   "id": "d213b7d2",
   "metadata": {},
   "outputs": [],
   "source": [
    "#bmi cal_____?\n",
    "\n",
    "name1 = \"a\"\n",
    "height_m1 = 2\n",
    "weight_kg1 = 90\n",
    "\n",
    "name2 = \"b\"\n",
    "height_m2 = 1.8\n",
    "weight_kg2 = 70\n",
    "\n",
    "name3 = \"c\" \n",
    "height_m3 = 2.5\n",
    "weight_kg3 = 160"
   ]
  },
  {
   "cell_type": "code",
   "execution_count": 73,
   "id": "c78a7f5e",
   "metadata": {},
   "outputs": [],
   "source": [
    "def bmi_cal(name, height_m, weight_kg):\n",
    "    bmi = weight_kg / (height_m ** 2)\n",
    "    print(\"bmi: \")\n",
    "    print(bmi)\n",
    "    if bmi < 25:\n",
    "        return name + \"is not overweight\"\n",
    "    else:\n",
    "        return name + \"is overweight\""
   ]
  },
  {
   "cell_type": "code",
   "execution_count": 74,
   "id": "2938dc3c",
   "metadata": {},
   "outputs": [
    {
     "name": "stdout",
     "output_type": "stream",
     "text": [
      "bmi: \n",
      "22.5\n",
      "bmi: \n",
      "21.604938271604937\n",
      "bmi: \n",
      "25.6\n"
     ]
    }
   ],
   "source": [
    "result1 = bmi_cal(name, height_m1, weight_kg1)\n",
    "result2 = bmi_cal(name, height_m2, weight_kg2)\n",
    "result3 = bmi_cal(name, height_m3, weight_kg3)"
   ]
  },
  {
   "cell_type": "code",
   "execution_count": 75,
   "id": "0bdac0ac",
   "metadata": {},
   "outputs": [
    {
     "name": "stdout",
     "output_type": "stream",
     "text": [
      "cis not overweight\n",
      "cis not overweight\n",
      "cis overweight\n"
     ]
    }
   ],
   "source": [
    "print(result1)\n",
    "print(result2)\n",
    "print(result3)"
   ]
  },
  {
   "cell_type": "code",
   "execution_count": null,
   "id": "3442878e",
   "metadata": {},
   "outputs": [],
   "source": []
  },
  {
   "cell_type": "code",
   "execution_count": null,
   "id": "f2c7d9d1",
   "metadata": {},
   "outputs": [],
   "source": []
  }
 ],
 "metadata": {
  "kernelspec": {
   "display_name": "Python 3",
   "language": "python",
   "name": "python3"
  },
  "language_info": {
   "codemirror_mode": {
    "name": "ipython",
    "version": 3
   },
   "file_extension": ".py",
   "mimetype": "text/x-python",
   "name": "python",
   "nbconvert_exporter": "python",
   "pygments_lexer": "ipython3",
   "version": "3.8.8"
  }
 },
 "nbformat": 4,
 "nbformat_minor": 5
}
